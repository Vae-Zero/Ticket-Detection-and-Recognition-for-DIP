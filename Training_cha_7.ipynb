{
 "cells": [
  {
   "cell_type": "code",
   "execution_count": 1,
   "id": "08bab5ef",
   "metadata": {
    "ExecuteTime": {
     "end_time": "2022-01-15T06:42:33.154796Z",
     "start_time": "2022-01-15T06:42:32.754244Z"
    }
   },
   "outputs": [],
   "source": [
    "%matplotlib inline\n",
    "import cv2\n",
    "import numpy as np\n",
    "from matplotlib import pyplot as plt"
   ]
  },
  {
   "cell_type": "code",
   "execution_count": 2,
   "id": "254a5e6f",
   "metadata": {
    "ExecuteTime": {
     "end_time": "2022-01-15T06:42:33.169859Z",
     "start_time": "2022-01-15T06:42:33.159585Z"
    }
   },
   "outputs": [],
   "source": [
    "# 仅处理7位序列号中的字母\n",
    "train_data = []\n",
    "train_label = []"
   ]
  },
  {
   "cell_type": "code",
   "execution_count": 3,
   "id": "939c3690",
   "metadata": {
    "ExecuteTime": {
     "end_time": "2022-01-15T06:42:33.185855Z",
     "start_time": "2022-01-15T06:42:33.172750Z"
    }
   },
   "outputs": [],
   "source": [
    "# 根据annotion.txt读取图像\n",
    "def Batch_Read(filename):\n",
    "    filename = \"test_data/\" + filename\n",
    "    img = cv2.imread(filename, cv2.IMREAD_GRAYSCALE)\n",
    "    return img"
   ]
  },
  {
   "cell_type": "code",
   "execution_count": 4,
   "id": "db5a8242",
   "metadata": {
    "ExecuteTime": {
     "end_time": "2022-01-15T06:42:33.200725Z",
     "start_time": "2022-01-15T06:42:33.186723Z"
    }
   },
   "outputs": [],
   "source": [
    "# 1.车票票面检测\n",
    "def Ticket_Detect(img):\n",
    "    # 1.1.预处理\n",
    "    # 中值滤波：去除黑色背景中的盐噪声，只用来做边缘提取的效果很好，size取3,5,7均可\n",
    "    img_blur = cv2.medianBlur(img, 7)\n",
    "    # OTSU阈值 二值化\n",
    "    _, img_blur_Otsu = cv2.threshold(img_blur, 0, 255, cv2.THRESH_OTSU)\n",
    "    #利用Canny算子检测图像的边缘\n",
    "    edges = cv2.Canny(img_blur_Otsu, 50, 150, apertureSize = 3)\n",
    "    \n",
    "    #1.2.寻找矩形位置并分割\n",
    "    # 获取轮廓\n",
    "    (contours, _) = cv2.findContours(edges, cv2.RETR_EXTERNAL, cv2.CHAIN_APPROX_NONE)\n",
    "    \n",
    "    for i, c in enumerate(contours):  #遍历轮廓\n",
    "        rect = cv2.minAreaRect(c)  # 生成最小外接矩形，得到最小外接矩形的（中心(x,y), (宽,高), 旋转角度）\n",
    "        box = np.int0(cv2.boxPoints(rect))  # 获取最小外接矩形的 4个顶点坐标\n",
    "    \n",
    "        # 根据面积过滤不需要的矩形（估计车票为700x1000）\n",
    "        area = cv2.contourArea(box)\n",
    "        if area < 400000: continue\n",
    "        if area > 1000000: continue    \n",
    "    \n",
    "        rect_w, rect_h = int(rect[1][0]) + 1, int(rect[1][1]) + 1  # 最小外接矩形的宽和高        \n",
    "        angle = rect[2]  #获取矩形相对于水平面的角度\n",
    "        #以矩形的右下角为旋转中心\n",
    "        if (rect_w > rect_h):\n",
    "            x0, y0 = int(box[0][0]), int(box[0][1])\n",
    "            M = cv2.getRotationMatrix2D((x0, y0), angle, 1)\n",
    "        else:        \n",
    "            t = rect_h\n",
    "            rect_h = rect_w\n",
    "            rect_w = t\n",
    "            x0, y0 = int(box[3][0]), int(box[3][1])\n",
    "            M = cv2.getRotationMatrix2D((x0, y0), angle - 90, 1)\n",
    "    \n",
    "        img_ro = cv2.warpAffine(img, M, (img.shape[1] * 2, img.shape[0]))\n",
    "        img_seg = img_ro[(y0 - rect_h) : y0, x0 : (x0 + rect_w)]\n",
    "        \n",
    "        \n",
    "        #1.3.倒立校正\n",
    "        #计算最上方和最下方的平均灰度值\n",
    "        avg1 = np.average(img_seg[0:75, 0:rect_w])\n",
    "        avg2 = np.average(img_seg[rect_h-75:rect_h,0:rect_w])\n",
    "        img_fix = np.copy(img_seg)\n",
    "        if (avg1 < avg2):\n",
    "            M = cv2.getRotationMatrix2D((rect_w / 2, rect_h / 2), 180, 1)\n",
    "            img_fix = cv2.warpAffine(img_seg, M, (rect_w, rect_h))\n",
    "        \n",
    "        return img_fix, rect_w, rect_h\n",
    "\n"
   ]
  },
  {
   "cell_type": "code",
   "execution_count": 5,
   "id": "c13b77ff",
   "metadata": {
    "ExecuteTime": {
     "end_time": "2022-01-15T06:42:33.216630Z",
     "start_time": "2022-01-15T06:42:33.201670Z"
    }
   },
   "outputs": [],
   "source": [
    "#2.2处理7位序列号\n",
    "def Num_7(img, img_con, rect_w, rect_h):\n",
    "    box_7 = np.array([int(rect_h * 0.03), int(rect_w * 0.03), int(rect_h *0.16), int(rect_w * 0.35)]).reshape(2, 2)\n",
    "    img_7 = img[box_7[0,0]:box_7[1,0], box_7[0,1]:box_7[1,1]]\n",
    "    \n",
    "    # 观察到序列号的灰度值范围为80~100，大于文字灰度值0~30\n",
    "    _, img_7_bi = cv2.threshold(~img_7, 225, 0, cv2.THRESH_TOZERO_INV)\n",
    "    # 开运算处理文字的边缘\n",
    "    ellipse = cv2.getStructuringElement(cv2.MORPH_ELLIPSE, (4,4))\n",
    "    rectangle = cv2.getStructuringElement(cv2.MORPH_RECT, (15, 15))\n",
    "    img_7_open = cv2.morphologyEx(img_7_bi, cv2.MORPH_OPEN, ellipse)\n",
    "    img_7_blur = cv2.blur(img_7_open, (9, 9))\n",
    "    _, img_7_open_otsu = cv2.threshold(img_7_blur, 0, 255, cv2.THRESH_OTSU)\n",
    "    img_7_con = cv2.morphologyEx(~img_7_open_otsu, cv2.MORPH_OPEN, rectangle)\n",
    "    \n",
    "    \n",
    "    # 获取轮廓\n",
    "    (contours, _) = cv2.findContours(~img_7_con, cv2.RETR_EXTERNAL, cv2.CHAIN_APPROX_NONE)\n",
    "    c_max = contours[0]\n",
    "    area_max = cv2.contourArea(c_max)\n",
    "    for i, c in enumerate(contours):  #遍历轮廓\n",
    "        # 找到面积最大的连通区域\n",
    "        area = cv2.contourArea(c)\n",
    "        if area_max < area:\n",
    "            area_max = area\n",
    "            c_max = c\n",
    "    rect_7_max = cv2.minAreaRect(c_max)  # 生成最小外接矩形，得到最小外接矩形的（中心(x,y), (宽,高), 旋转角度）\n",
    "    box_7_max = np.int0(cv2.boxPoints(rect_7_max))  # 获取最小外接矩形的 4个顶点坐标\n",
    "    box_7_max[:,0] += box_7[0,1]\n",
    "    box_7_max[:,1] += box_7[0,0]\n",
    "    \n",
    "    x_min = np.min(box_7_max[:,0]) - 2\n",
    "    x_max = np.max(box_7_max[:,0]) + 4\n",
    "    y_min = np.min(box_7_max[:,1]) - 2\n",
    "    y_max = np.max(box_7_max[:,1]) + 2\n",
    "\n",
    "    # 防止未完全连通的情况\n",
    "    if (x_max - x_min < 250):\n",
    "        num = round((x_max - x_min) / 29)\n",
    "        step_x = (x_max - x_min) / num + 1\n",
    "        if (x_min > 100): x_min = x_max - int(step_x * 7)\n",
    "        elif (x_max < 250): x_max = x_min + int(step_x * 7)\n",
    "        \n",
    "    #估计数字的宽度\n",
    "    step_x = (x_max - x_min) / 7\n",
    "    \n",
    "    #利用灰度值找到第一个数字的起始位置\n",
    "    _, img_otsu = cv2.threshold(img, 0, 255, cv2.THRESH_OTSU) \n",
    "    x_1 = x_max - int(step_x * 6) - 5\n",
    "    while(np.min(img_otsu[y_min:y_max,x_1]) < 100):\n",
    "        x_1 += 1\n",
    "    x_2 = x_1\n",
    "    while(np.min(img_otsu[y_min:y_max,x_2]) >= 100):\n",
    "        x_2 += 1\n",
    "    \n",
    "    gap = x_2 - x_1\n",
    "    step_x_new = (x_max - x_2) / 6 + gap / 16 \n",
    "    if (step_x_new > (x_max - x_min) / 8):\n",
    "        step_x = step_x_new\n",
    "        \n",
    "    \n",
    "    x_4 = x_max\n",
    "    for i in range(1, 7):\n",
    "        x_3 = x_max - round(step_x * i)\n",
    "        box = np.array([[x_3, y_max],[x_3, y_min],[x_4, y_min],[x_4,y_max]])\n",
    "        cv2.drawContours(img_con, [box], 0, (0, 0, 255), 2)\n",
    "        x_4 = x_3\n",
    "\n",
    "    box_ = np.array([[x_min, y_max],[x_min, y_min],[x_3, y_min],[x_3,y_max]])\n",
    "    cv2.drawContours(img_con, [box_], 0, (0, 0, 255), 2)\n",
    "        \n",
    "    data = np.array(img_otsu[y_min:y_max, x_min:x_3]) / 255.0\n",
    "    data = cv2.resize(data,(20, 20), interpolation = cv2.INTER_NEAREST)\n",
    "    train_data.append(data)\n",
    "        \n",
    "    return img_con"
   ]
  },
  {
   "cell_type": "code",
   "execution_count": 6,
   "id": "eb07a0d3",
   "metadata": {
    "ExecuteTime": {
     "end_time": "2022-01-15T06:42:38.181916Z",
     "start_time": "2022-01-15T06:42:33.217628Z"
    }
   },
   "outputs": [],
   "source": [
    "with open('annotation.txt', 'r') as file_r:\n",
    "    for row in file_r:\n",
    "        filename, num_21, num_7 = row.split()\n",
    "        train_label.append(num_7[0])\n",
    "        img = Batch_Read(filename)\n",
    "        img_fix, rect_w, rect_h = Ticket_Detect(img)\n",
    "        img_con_7 = Num_7(img_fix, img_fix, rect_w, rect_h)"
   ]
  },
  {
   "cell_type": "code",
   "execution_count": 7,
   "id": "404ed8a7",
   "metadata": {
    "ExecuteTime": {
     "end_time": "2022-01-15T06:42:38.337528Z",
     "start_time": "2022-01-15T06:42:38.184811Z"
    }
   },
   "outputs": [
    {
     "name": "stdout",
     "output_type": "stream",
     "text": [
      "L\n"
     ]
    },
    {
     "data": {
      "text/plain": [
       "<matplotlib.image.AxesImage at 0x27cfdc53d30>"
      ]
     },
     "execution_count": 7,
     "metadata": {},
     "output_type": "execute_result"
    },
    {
     "data": {
      "image/png": "[encoded data removed]",
      "text/plain": [
       "<Figure size 432x288 with 1 Axes>"
      ]
     },
     "metadata": {
      "needs_background": "light"
     },
     "output_type": "display_data"
    }
   ],
   "source": [
    "pos = 11\n",
    "print(train_label[pos])\n",
    "plt.imshow(train_data[pos], cmap = 'gray')"
   ]
  },
  {
   "cell_type": "code",
   "execution_count": 8,
   "id": "7291c775",
   "metadata": {
    "ExecuteTime": {
     "end_time": "2022-01-15T06:42:39.356291Z",
     "start_time": "2022-01-15T06:42:38.339267Z"
    }
   },
   "outputs": [
    {
     "data": {
      "text/plain": [
       "SVC()"
      ]
     },
     "execution_count": 8,
     "metadata": {},
     "output_type": "execute_result"
    }
   ],
   "source": [
    "from skimage.feature import hog\n",
    "from sklearn import svm\n",
    "\n",
    "X = []\n",
    "for data in train_data:\n",
    "    fd = hog(data, pixels_per_cell = (4, 4),\n",
    "              cells_per_block = (2, 2), multichannel = False, feature_vector = True)\n",
    "    X.append(fd)\n",
    "X = np.array(X)\n",
    "Y = np.reshape(np.array(train_label), (-1,))\n",
    "clf = svm.SVC(C = 1.0)\n",
    "clf.fit(X, Y)\n"
   ]
  },
  {
   "cell_type": "code",
   "execution_count": 9,
   "id": "cb152822",
   "metadata": {
    "ExecuteTime": {
     "end_time": "2022-01-15T06:42:39.371067Z",
     "start_time": "2022-01-15T06:42:39.358507Z"
    }
   },
   "outputs": [],
   "source": [
    "\n",
    "# 保存模型参数\n",
    "import joblib\n",
    "joblib.dump(clf, 'char_7_svm.pkl');"
   ]
  },
  {
   "cell_type": "code",
   "execution_count": null,
   "id": "4e45a49e",
   "metadata": {},
   "outputs": [],
   "source": []
  }
 ],
 "metadata": {
  "kernelspec": {
   "display_name": "Python 3",
   "language": "python",
   "name": "python3"
  },
  "language_info": {
   "codemirror_mode": {
    "name": "ipython",
    "version": 3
   },
   "file_extension": ".py",
   "mimetype": "text/x-python",
   "name": "python",
   "nbconvert_exporter": "python",
   "pygments_lexer": "ipython3",
   "version": "3.8.8"
  },
  "toc": {
   "base_numbering": 1,
   "nav_menu": {},
   "number_sections": true,
   "sideBar": true,
   "skip_h1_title": false,
   "title_cell": "Table of Contents",
   "title_sidebar": "Contents",
   "toc_cell": false,
   "toc_position": {},
   "toc_section_display": true,
   "toc_window_display": false
  }
 },
 "nbformat": 4,
 "nbformat_minor": 5
}
