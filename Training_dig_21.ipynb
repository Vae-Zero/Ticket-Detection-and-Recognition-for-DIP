{
 "cells": [
  {
   "cell_type": "code",
   "execution_count": 2,
   "id": "08bab5ef",
   "metadata": {
    "ExecuteTime": {
     "end_time": "2022-01-16T03:29:10.222403Z",
     "start_time": "2022-01-16T03:29:09.575995Z"
    }
   },
   "outputs": [],
   "source": [
    "%matplotlib inline\n",
    "import cv2\n",
    "import numpy as np\n",
    "from matplotlib import pyplot as plt"
   ]
  },
  {
   "cell_type": "code",
   "execution_count": 3,
   "id": "254a5e6f",
   "metadata": {
    "ExecuteTime": {
     "end_time": "2022-01-16T03:29:10.238654Z",
     "start_time": "2022-01-16T03:29:10.224113Z"
    }
   },
   "outputs": [],
   "source": [
    "# 仅处理21位序列号中数字部分\n",
    "train_data = []\n",
    "train_label = []"
   ]
  },
  {
   "cell_type": "code",
   "execution_count": 4,
   "id": "939c3690",
   "metadata": {
    "ExecuteTime": {
     "end_time": "2022-01-16T03:29:10.332777Z",
     "start_time": "2022-01-16T03:29:10.325550Z"
    }
   },
   "outputs": [],
   "source": [
    "# 根据annotion.txt读取图像\n",
    "def Batch_Read(filename):\n",
    "    filename = \"test_data/\" + filename\n",
    "    img = cv2.imread(filename, cv2.IMREAD_GRAYSCALE)\n",
    "    return img"
   ]
  },
  {
   "cell_type": "code",
   "execution_count": 5,
   "id": "db5a8242",
   "metadata": {
    "ExecuteTime": {
     "end_time": "2022-01-16T03:29:10.798407Z",
     "start_time": "2022-01-16T03:29:10.784234Z"
    }
   },
   "outputs": [],
   "source": [
    "# 1.车票票面检测\n",
    "def Ticket_Detect(img):\n",
    "    # 1.1.预处理\n",
    "    # 中值滤波：去除黑色背景中的盐噪声，只用来做边缘提取的效果很好，size取3,5,7均可\n",
    "    img_blur = cv2.medianBlur(img, 7)\n",
    "    # OTSU阈值 二值化\n",
    "    _, img_blur_Otsu = cv2.threshold(img_blur, 0, 255, cv2.THRESH_OTSU)\n",
    "    #利用Canny算子检测图像的边缘\n",
    "    edges = cv2.Canny(img_blur_Otsu, 50, 150, apertureSize = 3)\n",
    "    \n",
    "    #1.2.寻找矩形位置并分割\n",
    "    # 获取轮廓\n",
    "    (contours, _) = cv2.findContours(edges, cv2.RETR_EXTERNAL, cv2.CHAIN_APPROX_NONE)\n",
    "    \n",
    "    for i, c in enumerate(contours):  #遍历轮廓\n",
    "        rect = cv2.minAreaRect(c)  # 生成最小外接矩形，得到最小外接矩形的（中心(x,y), (宽,高), 旋转角度）\n",
    "        box = np.int0(cv2.boxPoints(rect))  # 获取最小外接矩形的 4个顶点坐标\n",
    "    \n",
    "        # 根据面积过滤不需要的矩形（估计车票为700x1000）\n",
    "        area = cv2.contourArea(box)\n",
    "        if area < 400000: continue\n",
    "        if area > 1000000: continue    \n",
    "    \n",
    "        rect_w, rect_h = int(rect[1][0]) + 1, int(rect[1][1]) + 1  # 最小外接矩形的宽和高        \n",
    "        angle = rect[2]  #获取矩形相对于水平面的角度\n",
    "        #以矩形的右下角为旋转中心\n",
    "        if (rect_w > rect_h):\n",
    "            x0, y0 = int(box[0][0]), int(box[0][1])\n",
    "            M = cv2.getRotationMatrix2D((x0, y0), angle, 1)\n",
    "        else:        \n",
    "            t = rect_h\n",
    "            rect_h = rect_w\n",
    "            rect_w = t\n",
    "            x0, y0 = int(box[3][0]), int(box[3][1])\n",
    "            M = cv2.getRotationMatrix2D((x0, y0), angle - 90, 1)\n",
    "    \n",
    "        img_ro = cv2.warpAffine(img, M, (img.shape[1] * 2, img.shape[0]))\n",
    "        img_seg = img_ro[(y0 - rect_h) : y0, x0 : (x0 + rect_w)]\n",
    "        \n",
    "        \n",
    "        #1.3.倒立校正\n",
    "        #计算最上方和最下方的平均灰度值\n",
    "        avg1 = np.average(img_seg[0:75, 0:rect_w])\n",
    "        avg2 = np.average(img_seg[rect_h-75:rect_h,0:rect_w])\n",
    "        img_fix = np.copy(img_seg)\n",
    "        if (avg1 < avg2):\n",
    "            M = cv2.getRotationMatrix2D((rect_w / 2, rect_h / 2), 180, 1)\n",
    "            img_fix = cv2.warpAffine(img_seg, M, (rect_w, rect_h))\n",
    "        \n",
    "        return img_fix, rect_w, rect_h\n",
    "\n"
   ]
  },
  {
   "cell_type": "code",
   "execution_count": 6,
   "id": "5c99526d",
   "metadata": {
    "ExecuteTime": {
     "end_time": "2022-01-16T03:29:11.348002Z",
     "start_time": "2022-01-16T03:29:11.265094Z"
    }
   },
   "outputs": [],
   "source": [
    "#2.序列号定位与分割\n",
    "#2.1处理21位序列号\n",
    "def Num_21(img, rect_w, rect_h):  \n",
    "    box_21 = np.array([int(rect_h*0.84), int(rect_w * 0.03), rect_h, int(rect_w * 0.5)]).reshape(2, 2)\n",
    "    img_21 = img[box_21[0,0]:box_21[1,0], box_21[0,1]:box_21[1,1]] \n",
    "    \n",
    "    \n",
    "    # 多次均值模糊+高斯模糊（增加了序列号的连通度，理想状态下能够直接连通成一个区域）\n",
    "    # 多次开运算去除序列号之间的“桥”，连通为一个区域\n",
    "    img_21 = cv2.blur(img_21, (9, 9))\n",
    "    img_21 = cv2.blur(img_21, (9, 9))\n",
    "    #二值化\n",
    "    _,img_21 = cv2.threshold(img_21, 0, 255, cv2.THRESH_OTSU)\n",
    "    ellipse = cv2.getStructuringElement(cv2.MORPH_ELLIPSE, (9, 9))    \n",
    "    rectangle = cv2.getStructuringElement(cv2.MORPH_RECT, (9, 9))\n",
    "    img_21_open = cv2.morphologyEx(img_21, cv2.MORPH_OPEN, ellipse)\n",
    "    img_21_open = cv2.morphologyEx(img_21_open, cv2.MORPH_OPEN, rectangle)\n",
    "    \n",
    "    # 获取轮廓\n",
    "    (contours, _) = cv2.findContours(~img_21_open, cv2.RETR_EXTERNAL, cv2.CHAIN_APPROX_NONE)\n",
    "    c_max = contours[0]\n",
    "    area_max = cv2.contourArea(c_max)\n",
    "    for i, c in enumerate(contours):  #遍历轮廓\n",
    "        # 找到面积最大的连通区域\n",
    "        area = cv2.contourArea(c)\n",
    "        if area_max < area:\n",
    "            area_max = area\n",
    "            c_max = c\n",
    "    rect_21_max = cv2.minAreaRect(c_max)  # 生成最小外接矩形，得到最小外接矩形的（中心(x,y), (宽,高), 旋转角度）\n",
    "    box_21_max = np.int0(cv2.boxPoints(rect_21_max))  # 获取最小外接矩形的 4个顶点坐标\n",
    "    box_21_max[:,0] += box_21[0,1]\n",
    "    box_21_max[:,1] += box_21[0,0]    \n",
    "    \n",
    "    \n",
    "    img_con = cv2.cvtColor(np.copy(img), cv2.COLOR_GRAY2RGB)\n",
    "    _, img = cv2.threshold(img, 0, 255, cv2.THRESH_OTSU)\n",
    "    x_min = np.min(box_21_max[:,0]) \n",
    "    x_max = np.max(box_21_max[:,0]) \n",
    "    y_min = np.min(box_21_max[:,1])\n",
    "    y_max = np.max(box_21_max[:,1])\n",
    "    #字母的宽度略大于数字的宽度，估计数字的宽度\n",
    "    step_x = (x_max - x_min) / 21 * 0.97    \n",
    "\n",
    "\n",
    "    x_1 = x_min\n",
    "    for i in range(1, 15):\n",
    "        x_2 = x_min + round(step_x * i)\n",
    "        box = np.array([[x_1, y_max],[x_1, y_min],[x_2, y_min],[x_2,y_max]])\n",
    "        cv2.drawContours(img_con, [box], 0, (0, 0, 255), 2)\n",
    "        data = np.array(img[y_min:y_max, x_1:x_2]) / 255.0\n",
    "        data = cv2.resize(data,(20, 20), interpolation = cv2.INTER_NEAREST)\n",
    "        train_data.append(data)\n",
    "        x_1 = x_2\n",
    "\n",
    "    x_4 = x_max\n",
    "    for i in range(1, 7):\n",
    "        x_3 = x_max - round(step_x * i)\n",
    "        box = np.array([[x_3, y_max],[x_3, y_min],[x_4, y_min],[x_4,y_max]])\n",
    "        cv2.drawContours(img_con, [box], 0, (0, 0, 255), 2)\n",
    "        data = np.array(img[y_min:y_max, x_3:x_4]) / 255.0\n",
    "        data = cv2.resize(data,(20, 20), interpolation = cv2.INTER_NEAREST)\n",
    "        train_data.append(data)\n",
    "        x_4 = x_3\n",
    "\n",
    "    box = np.array([[x_2, y_max],[x_2, y_min],[x_3, y_min],[x_3,y_max]])\n",
    "    cv2.drawContours(img_con, [box], 0, (0, 0, 255), 2)\n",
    "    \n",
    "    return img_con"
   ]
  },
  {
   "cell_type": "code",
   "execution_count": 7,
   "id": "eb07a0d3",
   "metadata": {
    "ExecuteTime": {
     "end_time": "2022-01-16T03:29:17.904388Z",
     "start_time": "2022-01-16T03:29:12.296512Z"
    }
   },
   "outputs": [],
   "source": [
    "with open('annotation.txt', 'r') as file_r:\n",
    "    for row in file_r:\n",
    "        filename, num_21, num_7 = row.split()\n",
    "        for i in range(0, 14):\n",
    "            train_label.append(num_21[i])\n",
    "        for i in range(20, 14, -1):\n",
    "            train_label.append(num_21[i])\n",
    "        img = Batch_Read(filename)\n",
    "        img_fix, rect_w, rect_h = Ticket_Detect(img)\n",
    "        img_con_21 = Num_21(img_fix, rect_w, rect_h)"
   ]
  },
  {
   "cell_type": "code",
   "execution_count": 15,
   "id": "07c64b91",
   "metadata": {
    "ExecuteTime": {
     "end_time": "2022-01-16T03:30:24.701033Z",
     "start_time": "2022-01-16T03:30:24.189182Z"
    }
   },
   "outputs": [
    {
     "data": {
      "image/png": "[encoded data removed]",
      "text/plain": [
       "<Figure size 432x288 with 10 Axes>"
      ]
     },
     "metadata": {
      "needs_background": "light"
     },
     "output_type": "display_data"
    }
   ],
   "source": [
    "for i in range(11, 21):\n",
    "    plt.subplot(2, 5, i - 10)\n",
    "    plt.imshow(train_data[i], cmap = 'gray')\n",
    "    plt.title(train_label[i])\n",
    "plt.show()"
   ]
  },
  {
   "cell_type": "code",
   "execution_count": 19,
   "id": "7291c775",
   "metadata": {
    "ExecuteTime": {
     "end_time": "2022-01-16T03:46:08.756090Z",
     "start_time": "2022-01-16T03:46:01.309057Z"
    }
   },
   "outputs": [
    {
     "data": {
      "text/plain": [
       "SVC()"
      ]
     },
     "execution_count": 19,
     "metadata": {},
     "output_type": "execute_result"
    }
   ],
   "source": [
    "from skimage.feature import hog\n",
    "from sklearn import svm\n",
    "\n",
    "X = []\n",
    "imgs = []\n",
    "for data in train_data:\n",
    "    fd, img_hog = hog(data, pixels_per_cell = (4, 4),\n",
    "              cells_per_block = (2, 2), multichannel = False, feature_vector = True, visualize = True)\n",
    "    X.append(fd)\n",
    "    imgs.append(img_hog)\n",
    "X = np.array(X)\n",
    "Y = np.reshape(train_label,(-1,))\n",
    "clf = svm.SVC(C = 1.0)\n",
    "clf.fit(X, Y)\n"
   ]
  },
  {
   "cell_type": "code",
   "execution_count": 21,
   "id": "e1ecc086",
   "metadata": {
    "ExecuteTime": {
     "end_time": "2022-01-16T03:46:22.461971Z",
     "start_time": "2022-01-16T03:46:21.948912Z"
    }
   },
   "outputs": [
    {
     "data": {
      "image/png": "[encoded data removed]",
      "text/plain": [
       "<Figure size 432x288 with 10 Axes>"
      ]
     },
     "metadata": {
      "needs_background": "light"
     },
     "output_type": "display_data"
    }
   ],
   "source": [
    "from skimage import io\n",
    "for i in range(11, 21):\n",
    "    plt.subplot(2, 5, i - 10)\n",
    "    plt.imshow(imgs[i], cmap = 'gray')\n",
    "    plt.title(Y[i])\n",
    "plt.show()"
   ]
  },
  {
   "cell_type": "code",
   "execution_count": 10,
   "id": "cb152822",
   "metadata": {
    "ExecuteTime": {
     "end_time": "2022-01-16T03:29:22.625685Z",
     "start_time": "2022-01-16T03:29:22.611589Z"
    }
   },
   "outputs": [],
   "source": [
    "\n",
    "# 保存模型参数\n",
    "import joblib\n",
    "joblib.dump(clf, 'digits_21_svm.pkl');"
   ]
  },
  {
   "cell_type": "code",
   "execution_count": null,
   "id": "4e45a49e",
   "metadata": {},
   "outputs": [],
   "source": []
  }
 ],
 "metadata": {
  "kernelspec": {
   "display_name": "Python 3",
   "language": "python",
   "name": "python3"
  },
  "language_info": {
   "codemirror_mode": {
    "name": "ipython",
    "version": 3
   },
   "file_extension": ".py",
   "mimetype": "text/x-python",
   "name": "python",
   "nbconvert_exporter": "python",
   "pygments_lexer": "ipython3",
   "version": "3.8.8"
  },
  "toc": {
   "base_numbering": 1,
   "nav_menu": {},
   "number_sections": true,
   "sideBar": true,
   "skip_h1_title": false,
   "title_cell": "Table of Contents",
   "title_sidebar": "Contents",
   "toc_cell": false,
   "toc_position": {},
   "toc_section_display": true,
   "toc_window_display": false
  }
 },
 "nbformat": 4,
 "nbformat_minor": 5
}
